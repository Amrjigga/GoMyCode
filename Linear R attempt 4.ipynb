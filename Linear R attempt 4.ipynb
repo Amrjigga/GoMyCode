{
 "cells": [
  {
   "cell_type": "code",
   "execution_count": 1,
   "id": "6b5f1eee",
   "metadata": {},
   "outputs": [],
   "source": [
    "import pandas as pd\n",
    "import numpy as np\n",
    "import matplotlib.pyplot as plt\n",
    "import sklearn"
   ]
  },
  {
   "cell_type": "code",
   "execution_count": 2,
   "id": "38b09f99",
   "metadata": {},
   "outputs": [],
   "source": [
    "df = pd.read_csv('kc_house_data.csv')"
   ]
  },
  {
   "cell_type": "code",
   "execution_count": 6,
   "id": "16bd89b4",
   "metadata": {},
   "outputs": [],
   "source": [
    "df3= df"
   ]
  },
  {
   "cell_type": "code",
   "execution_count": 7,
   "id": "9dbd5fae",
   "metadata": {},
   "outputs": [],
   "source": [
    "df3 = df.drop(['date'], axis=1)\n"
   ]
  },
  {
   "cell_type": "code",
   "execution_count": 8,
   "id": "3e53d1c6",
   "metadata": {},
   "outputs": [
    {
     "name": "stdout",
     "output_type": "stream",
     "text": [
      "               id     price  bedrooms  bathrooms  sqft_living  sqft_lot  \\\n",
      "0      7129300520  221900.0         3       1.00         1180      5650   \n",
      "1      6414100192  538000.0         3       2.25         2570      7242   \n",
      "2      5631500400  180000.0         2       1.00          770     10000   \n",
      "3      2487200875  604000.0         4       3.00         1960      5000   \n",
      "4      1954400510  510000.0         3       2.00         1680      8080   \n",
      "...           ...       ...       ...        ...          ...       ...   \n",
      "21608   263000018  360000.0         3       2.50         1530      1131   \n",
      "21609  6600060120  400000.0         4       2.50         2310      5813   \n",
      "21610  1523300141  402101.0         2       0.75         1020      1350   \n",
      "21611   291310100  400000.0         3       2.50         1600      2388   \n",
      "21612  1523300157  325000.0         2       0.75         1020      1076   \n",
      "\n",
      "       floors  waterfront  view  condition  grade  sqft_above  sqft_basement  \\\n",
      "0         1.0           0     0          3      7        1180              0   \n",
      "1         2.0           0     0          3      7        2170            400   \n",
      "2         1.0           0     0          3      6         770              0   \n",
      "3         1.0           0     0          5      7        1050            910   \n",
      "4         1.0           0     0          3      8        1680              0   \n",
      "...       ...         ...   ...        ...    ...         ...            ...   \n",
      "21608     3.0           0     0          3      8        1530              0   \n",
      "21609     2.0           0     0          3      8        2310              0   \n",
      "21610     2.0           0     0          3      7        1020              0   \n",
      "21611     2.0           0     0          3      8        1600              0   \n",
      "21612     2.0           0     0          3      7        1020              0   \n",
      "\n",
      "       yr_built  yr_renovated  zipcode      lat     long  sqft_living15  \\\n",
      "0          1955             0    98178  47.5112 -122.257           1340   \n",
      "1          1951          1991    98125  47.7210 -122.319           1690   \n",
      "2          1933             0    98028  47.7379 -122.233           2720   \n",
      "3          1965             0    98136  47.5208 -122.393           1360   \n",
      "4          1987             0    98074  47.6168 -122.045           1800   \n",
      "...         ...           ...      ...      ...      ...            ...   \n",
      "21608      2009             0    98103  47.6993 -122.346           1530   \n",
      "21609      2014             0    98146  47.5107 -122.362           1830   \n",
      "21610      2009             0    98144  47.5944 -122.299           1020   \n",
      "21611      2004             0    98027  47.5345 -122.069           1410   \n",
      "21612      2008             0    98144  47.5941 -122.299           1020   \n",
      "\n",
      "       sqft_lot15  \n",
      "0            5650  \n",
      "1            7639  \n",
      "2            8062  \n",
      "3            5000  \n",
      "4            7503  \n",
      "...           ...  \n",
      "21608        1509  \n",
      "21609        7200  \n",
      "21610        2007  \n",
      "21611        1287  \n",
      "21612        1357  \n",
      "\n",
      "[21613 rows x 20 columns]\n"
     ]
    }
   ],
   "source": [
    "print(df3)"
   ]
  },
  {
   "cell_type": "code",
   "execution_count": 9,
   "id": "eec39632",
   "metadata": {},
   "outputs": [],
   "source": [
    "X = df3.drop(\"price\", axis=1)\n",
    "y = df3[\"price\"]"
   ]
  },
  {
   "cell_type": "code",
   "execution_count": 10,
   "id": "a0415d1f",
   "metadata": {},
   "outputs": [],
   "source": [
    "from sklearn.model_selection import train_test_split\n",
    "\n",
    "X_train, X_test, y_train, y_test = train_test_split(X, y, test_size=0.2, random_state=42)"
   ]
  },
  {
   "cell_type": "code",
   "execution_count": 11,
   "id": "294d1947",
   "metadata": {},
   "outputs": [
    {
     "data": {
      "text/html": [
       "<div>\n",
       "<style scoped>\n",
       "    .dataframe tbody tr th:only-of-type {\n",
       "        vertical-align: middle;\n",
       "    }\n",
       "\n",
       "    .dataframe tbody tr th {\n",
       "        vertical-align: top;\n",
       "    }\n",
       "\n",
       "    .dataframe thead th {\n",
       "        text-align: right;\n",
       "    }\n",
       "</style>\n",
       "<table border=\"1\" class=\"dataframe\">\n",
       "  <thead>\n",
       "    <tr style=\"text-align: right;\">\n",
       "      <th></th>\n",
       "      <th>id</th>\n",
       "      <th>bedrooms</th>\n",
       "      <th>bathrooms</th>\n",
       "      <th>sqft_living</th>\n",
       "      <th>sqft_lot</th>\n",
       "      <th>floors</th>\n",
       "      <th>waterfront</th>\n",
       "      <th>view</th>\n",
       "      <th>condition</th>\n",
       "      <th>grade</th>\n",
       "      <th>sqft_above</th>\n",
       "      <th>sqft_basement</th>\n",
       "      <th>yr_built</th>\n",
       "      <th>yr_renovated</th>\n",
       "      <th>zipcode</th>\n",
       "      <th>lat</th>\n",
       "      <th>long</th>\n",
       "      <th>sqft_living15</th>\n",
       "      <th>sqft_lot15</th>\n",
       "    </tr>\n",
       "  </thead>\n",
       "  <tbody>\n",
       "    <tr>\n",
       "      <th>6325</th>\n",
       "      <td>5467910190</td>\n",
       "      <td>3</td>\n",
       "      <td>1.75</td>\n",
       "      <td>1780</td>\n",
       "      <td>13095</td>\n",
       "      <td>1.0</td>\n",
       "      <td>0</td>\n",
       "      <td>0</td>\n",
       "      <td>4</td>\n",
       "      <td>9</td>\n",
       "      <td>1780</td>\n",
       "      <td>0</td>\n",
       "      <td>1983</td>\n",
       "      <td>0</td>\n",
       "      <td>98042</td>\n",
       "      <td>47.3670</td>\n",
       "      <td>-122.152</td>\n",
       "      <td>2750</td>\n",
       "      <td>13095</td>\n",
       "    </tr>\n",
       "    <tr>\n",
       "      <th>13473</th>\n",
       "      <td>9331800580</td>\n",
       "      <td>2</td>\n",
       "      <td>1.00</td>\n",
       "      <td>1000</td>\n",
       "      <td>3700</td>\n",
       "      <td>1.0</td>\n",
       "      <td>0</td>\n",
       "      <td>0</td>\n",
       "      <td>3</td>\n",
       "      <td>6</td>\n",
       "      <td>800</td>\n",
       "      <td>200</td>\n",
       "      <td>1929</td>\n",
       "      <td>0</td>\n",
       "      <td>98118</td>\n",
       "      <td>47.5520</td>\n",
       "      <td>-122.290</td>\n",
       "      <td>1270</td>\n",
       "      <td>5000</td>\n",
       "    </tr>\n",
       "    <tr>\n",
       "      <th>17614</th>\n",
       "      <td>2407000405</td>\n",
       "      <td>3</td>\n",
       "      <td>1.00</td>\n",
       "      <td>1080</td>\n",
       "      <td>7486</td>\n",
       "      <td>1.5</td>\n",
       "      <td>0</td>\n",
       "      <td>0</td>\n",
       "      <td>3</td>\n",
       "      <td>6</td>\n",
       "      <td>990</td>\n",
       "      <td>90</td>\n",
       "      <td>1942</td>\n",
       "      <td>0</td>\n",
       "      <td>98146</td>\n",
       "      <td>47.4838</td>\n",
       "      <td>-122.335</td>\n",
       "      <td>1170</td>\n",
       "      <td>7800</td>\n",
       "    </tr>\n",
       "    <tr>\n",
       "      <th>16970</th>\n",
       "      <td>5466700290</td>\n",
       "      <td>3</td>\n",
       "      <td>2.25</td>\n",
       "      <td>2090</td>\n",
       "      <td>7500</td>\n",
       "      <td>1.0</td>\n",
       "      <td>0</td>\n",
       "      <td>0</td>\n",
       "      <td>4</td>\n",
       "      <td>7</td>\n",
       "      <td>1280</td>\n",
       "      <td>810</td>\n",
       "      <td>1977</td>\n",
       "      <td>0</td>\n",
       "      <td>98031</td>\n",
       "      <td>47.3951</td>\n",
       "      <td>-122.172</td>\n",
       "      <td>1800</td>\n",
       "      <td>7350</td>\n",
       "    </tr>\n",
       "    <tr>\n",
       "      <th>20868</th>\n",
       "      <td>3026059361</td>\n",
       "      <td>2</td>\n",
       "      <td>2.50</td>\n",
       "      <td>1741</td>\n",
       "      <td>1439</td>\n",
       "      <td>2.0</td>\n",
       "      <td>0</td>\n",
       "      <td>0</td>\n",
       "      <td>3</td>\n",
       "      <td>8</td>\n",
       "      <td>1446</td>\n",
       "      <td>295</td>\n",
       "      <td>2007</td>\n",
       "      <td>0</td>\n",
       "      <td>98034</td>\n",
       "      <td>47.7043</td>\n",
       "      <td>-122.209</td>\n",
       "      <td>2090</td>\n",
       "      <td>10454</td>\n",
       "    </tr>\n",
       "    <tr>\n",
       "      <th>...</th>\n",
       "      <td>...</td>\n",
       "      <td>...</td>\n",
       "      <td>...</td>\n",
       "      <td>...</td>\n",
       "      <td>...</td>\n",
       "      <td>...</td>\n",
       "      <td>...</td>\n",
       "      <td>...</td>\n",
       "      <td>...</td>\n",
       "      <td>...</td>\n",
       "      <td>...</td>\n",
       "      <td>...</td>\n",
       "      <td>...</td>\n",
       "      <td>...</td>\n",
       "      <td>...</td>\n",
       "      <td>...</td>\n",
       "      <td>...</td>\n",
       "      <td>...</td>\n",
       "      <td>...</td>\n",
       "    </tr>\n",
       "    <tr>\n",
       "      <th>11964</th>\n",
       "      <td>5272200045</td>\n",
       "      <td>3</td>\n",
       "      <td>1.50</td>\n",
       "      <td>1000</td>\n",
       "      <td>6914</td>\n",
       "      <td>1.0</td>\n",
       "      <td>0</td>\n",
       "      <td>0</td>\n",
       "      <td>3</td>\n",
       "      <td>7</td>\n",
       "      <td>1000</td>\n",
       "      <td>0</td>\n",
       "      <td>1947</td>\n",
       "      <td>0</td>\n",
       "      <td>98125</td>\n",
       "      <td>47.7144</td>\n",
       "      <td>-122.319</td>\n",
       "      <td>1000</td>\n",
       "      <td>6947</td>\n",
       "    </tr>\n",
       "    <tr>\n",
       "      <th>21575</th>\n",
       "      <td>9578500790</td>\n",
       "      <td>3</td>\n",
       "      <td>2.50</td>\n",
       "      <td>3087</td>\n",
       "      <td>5002</td>\n",
       "      <td>2.0</td>\n",
       "      <td>0</td>\n",
       "      <td>0</td>\n",
       "      <td>3</td>\n",
       "      <td>8</td>\n",
       "      <td>3087</td>\n",
       "      <td>0</td>\n",
       "      <td>2014</td>\n",
       "      <td>0</td>\n",
       "      <td>98023</td>\n",
       "      <td>47.2974</td>\n",
       "      <td>-122.349</td>\n",
       "      <td>2927</td>\n",
       "      <td>5183</td>\n",
       "    </tr>\n",
       "    <tr>\n",
       "      <th>5390</th>\n",
       "      <td>7202350480</td>\n",
       "      <td>3</td>\n",
       "      <td>2.50</td>\n",
       "      <td>2120</td>\n",
       "      <td>4780</td>\n",
       "      <td>2.0</td>\n",
       "      <td>0</td>\n",
       "      <td>0</td>\n",
       "      <td>3</td>\n",
       "      <td>7</td>\n",
       "      <td>2120</td>\n",
       "      <td>0</td>\n",
       "      <td>2004</td>\n",
       "      <td>0</td>\n",
       "      <td>98053</td>\n",
       "      <td>47.6810</td>\n",
       "      <td>-122.032</td>\n",
       "      <td>1690</td>\n",
       "      <td>2650</td>\n",
       "    </tr>\n",
       "    <tr>\n",
       "      <th>860</th>\n",
       "      <td>1723049033</td>\n",
       "      <td>1</td>\n",
       "      <td>0.75</td>\n",
       "      <td>380</td>\n",
       "      <td>15000</td>\n",
       "      <td>1.0</td>\n",
       "      <td>0</td>\n",
       "      <td>0</td>\n",
       "      <td>3</td>\n",
       "      <td>5</td>\n",
       "      <td>380</td>\n",
       "      <td>0</td>\n",
       "      <td>1963</td>\n",
       "      <td>0</td>\n",
       "      <td>98168</td>\n",
       "      <td>47.4810</td>\n",
       "      <td>-122.323</td>\n",
       "      <td>1170</td>\n",
       "      <td>15000</td>\n",
       "    </tr>\n",
       "    <tr>\n",
       "      <th>15795</th>\n",
       "      <td>6147650280</td>\n",
       "      <td>4</td>\n",
       "      <td>2.50</td>\n",
       "      <td>3130</td>\n",
       "      <td>5999</td>\n",
       "      <td>2.0</td>\n",
       "      <td>0</td>\n",
       "      <td>0</td>\n",
       "      <td>3</td>\n",
       "      <td>7</td>\n",
       "      <td>3130</td>\n",
       "      <td>0</td>\n",
       "      <td>2006</td>\n",
       "      <td>0</td>\n",
       "      <td>98042</td>\n",
       "      <td>47.3837</td>\n",
       "      <td>-122.099</td>\n",
       "      <td>3020</td>\n",
       "      <td>5997</td>\n",
       "    </tr>\n",
       "  </tbody>\n",
       "</table>\n",
       "<p>17290 rows × 19 columns</p>\n",
       "</div>"
      ],
      "text/plain": [
       "               id  bedrooms  bathrooms  sqft_living  sqft_lot  floors  \\\n",
       "6325   5467910190         3       1.75         1780     13095     1.0   \n",
       "13473  9331800580         2       1.00         1000      3700     1.0   \n",
       "17614  2407000405         3       1.00         1080      7486     1.5   \n",
       "16970  5466700290         3       2.25         2090      7500     1.0   \n",
       "20868  3026059361         2       2.50         1741      1439     2.0   \n",
       "...           ...       ...        ...          ...       ...     ...   \n",
       "11964  5272200045         3       1.50         1000      6914     1.0   \n",
       "21575  9578500790         3       2.50         3087      5002     2.0   \n",
       "5390   7202350480         3       2.50         2120      4780     2.0   \n",
       "860    1723049033         1       0.75          380     15000     1.0   \n",
       "15795  6147650280         4       2.50         3130      5999     2.0   \n",
       "\n",
       "       waterfront  view  condition  grade  sqft_above  sqft_basement  \\\n",
       "6325            0     0          4      9        1780              0   \n",
       "13473           0     0          3      6         800            200   \n",
       "17614           0     0          3      6         990             90   \n",
       "16970           0     0          4      7        1280            810   \n",
       "20868           0     0          3      8        1446            295   \n",
       "...           ...   ...        ...    ...         ...            ...   \n",
       "11964           0     0          3      7        1000              0   \n",
       "21575           0     0          3      8        3087              0   \n",
       "5390            0     0          3      7        2120              0   \n",
       "860             0     0          3      5         380              0   \n",
       "15795           0     0          3      7        3130              0   \n",
       "\n",
       "       yr_built  yr_renovated  zipcode      lat     long  sqft_living15  \\\n",
       "6325       1983             0    98042  47.3670 -122.152           2750   \n",
       "13473      1929             0    98118  47.5520 -122.290           1270   \n",
       "17614      1942             0    98146  47.4838 -122.335           1170   \n",
       "16970      1977             0    98031  47.3951 -122.172           1800   \n",
       "20868      2007             0    98034  47.7043 -122.209           2090   \n",
       "...         ...           ...      ...      ...      ...            ...   \n",
       "11964      1947             0    98125  47.7144 -122.319           1000   \n",
       "21575      2014             0    98023  47.2974 -122.349           2927   \n",
       "5390       2004             0    98053  47.6810 -122.032           1690   \n",
       "860        1963             0    98168  47.4810 -122.323           1170   \n",
       "15795      2006             0    98042  47.3837 -122.099           3020   \n",
       "\n",
       "       sqft_lot15  \n",
       "6325        13095  \n",
       "13473        5000  \n",
       "17614        7800  \n",
       "16970        7350  \n",
       "20868       10454  \n",
       "...           ...  \n",
       "11964        6947  \n",
       "21575        5183  \n",
       "5390         2650  \n",
       "860         15000  \n",
       "15795        5997  \n",
       "\n",
       "[17290 rows x 19 columns]"
      ]
     },
     "execution_count": 11,
     "metadata": {},
     "output_type": "execute_result"
    }
   ],
   "source": [
    "X_train"
   ]
  },
  {
   "cell_type": "code",
   "execution_count": 12,
   "id": "9609362e",
   "metadata": {},
   "outputs": [
    {
     "data": {
      "text/plain": [
       "LinearRegression()"
      ]
     },
     "execution_count": 12,
     "metadata": {},
     "output_type": "execute_result"
    }
   ],
   "source": [
    "from sklearn.linear_model import LinearRegression\n",
    "\n",
    "reg = LinearRegression()\n",
    "reg.fit(X_train, y_train)"
   ]
  },
  {
   "cell_type": "code",
   "execution_count": 13,
   "id": "c4ca803e",
   "metadata": {},
   "outputs": [
    {
     "data": {
      "text/plain": [
       "<matplotlib.collections.PathCollection at 0x1d2619778b0>"
      ]
     },
     "execution_count": 13,
     "metadata": {},
     "output_type": "execute_result"
    },
    {
     "data": {
      "image/png": "[encoded data removed]",
      "text/plain": [
       "<Figure size 432x288 with 1 Axes>"
      ]
     },
     "metadata": {
      "needs_background": "light"
     },
     "output_type": "display_data"
    }
   ],
   "source": [
    "predictions= reg.predict(X_test)\n",
    "\n",
    "plt.scatter(y_test, predictions)"
   ]
  },
  {
   "cell_type": "code",
   "execution_count": 15,
   "id": "ef31d2b8",
   "metadata": {},
   "outputs": [],
   "source": [
    "from sklearn.preprocessing import PolynomialFeatures\n",
    "\n",
    "poly = PolynomialFeatures(degree=2)\n",
    "\n",
    "X_train_poly = poly.fit_transform(X_train)\n",
    "X_test_poly = poly.transform(X_test)\n"
   ]
  },
  {
   "cell_type": "code",
   "execution_count": 16,
   "id": "916ed1d9",
   "metadata": {},
   "outputs": [
    {
     "data": {
      "text/plain": [
       "LinearRegression()"
      ]
     },
     "execution_count": 16,
     "metadata": {},
     "output_type": "execute_result"
    }
   ],
   "source": [
    "lin_reg = LinearRegression()\n",
    "lin_reg.fit(X_train_poly, y_train)\n"
   ]
  },
  {
   "cell_type": "code",
   "execution_count": 17,
   "id": "526556a5",
   "metadata": {},
   "outputs": [],
   "source": [
    "y_pred = lin_reg.predict(X_test_poly)\n",
    "\n",
    "\n",
    "\n"
   ]
  },
  {
   "cell_type": "code",
   "execution_count": 18,
   "id": "8c302853",
   "metadata": {},
   "outputs": [
    {
     "data": {
      "text/plain": [
       "<matplotlib.collections.PathCollection at 0x1d261b63d60>"
      ]
     },
     "execution_count": 18,
     "metadata": {},
     "output_type": "execute_result"
    },
    {
     "data": {
      "image/png": "[encoded data removed]",
      "text/plain": [
       "<Figure size 432x288 with 1 Axes>"
      ]
     },
     "metadata": {
      "needs_background": "light"
     },
     "output_type": "display_data"
    }
   ],
   "source": [
    "#plt.scatter(y_test, y_pred)"
   ]
  },
  {
   "cell_type": "code",
   "execution_count": 23,
   "id": "3947fe3f",
   "metadata": {},
   "outputs": [],
   "source": [
    "#comparing mean squared error of multi lin regression with poly regression and R squared \n",
    "from sklearn.metrics import mean_squared_error, r2_score\n",
    "mse_lin = mean_squared_error(y_test, predictions)\n",
    "mse_poly = mean_squared_error(y_test, y_pred)\n",
    "\n",
    "r2_lin = r2_score(y_test, predictions)\n",
    "r2_poly = r2_score(y_test, y_pred)"
   ]
  },
  {
   "cell_type": "code",
   "execution_count": 21,
   "id": "e993cb06",
   "metadata": {},
   "outputs": [
    {
     "data": {
      "text/plain": [
       "45164817780.90028"
      ]
     },
     "execution_count": 21,
     "metadata": {},
     "output_type": "execute_result"
    }
   ],
   "source": [
    "mse_lin"
   ]
  },
  {
   "cell_type": "code",
   "execution_count": 22,
   "id": "441fe76c",
   "metadata": {},
   "outputs": [
    {
     "data": {
      "text/plain": [
       "51553831714.252075"
      ]
     },
     "execution_count": 22,
     "metadata": {},
     "output_type": "execute_result"
    }
   ],
   "source": [
    "mse_poly"
   ]
  },
  {
   "cell_type": "code",
   "execution_count": 24,
   "id": "f4cf024a",
   "metadata": {},
   "outputs": [
    {
     "data": {
      "text/plain": [
       "0.7012448735876524"
      ]
     },
     "execution_count": 24,
     "metadata": {},
     "output_type": "execute_result"
    }
   ],
   "source": [
    "r2_lin"
   ]
  },
  {
   "cell_type": "code",
   "execution_count": 25,
   "id": "d0ac48a5",
   "metadata": {},
   "outputs": [
    {
     "data": {
      "text/plain": [
       "0.6589829812765102"
      ]
     },
     "execution_count": 25,
     "metadata": {},
     "output_type": "execute_result"
    }
   ],
   "source": [
    "r2_poly"
   ]
  },
  {
   "cell_type": "code",
   "execution_count": null,
   "id": "0009fb6f",
   "metadata": {},
   "outputs": [],
   "source": []
  }
 ],
 "metadata": {
  "kernelspec": {
   "display_name": "Python 3 (ipykernel)",
   "language": "python",
   "name": "python3"
  },
  "language_info": {
   "codemirror_mode": {
    "name": "ipython",
    "version": 3
   },
   "file_extension": ".py",
   "mimetype": "text/x-python",
   "name": "python",
   "nbconvert_exporter": "python",
   "pygments_lexer": "ipython3",
   "version": "3.9.12"
  }
 },
 "nbformat": 4,
 "nbformat_minor": 5
}
